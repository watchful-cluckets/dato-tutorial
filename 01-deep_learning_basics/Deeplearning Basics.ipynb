{
 "cells": [
  {
   "cell_type": "code",
   "execution_count": null,
   "metadata": {
    "collapsed": false
   },
   "outputs": [],
   "source": [
    "import graphlab\n",
    "from IPython.display import Image"
   ]
  },
  {
   "cell_type": "markdown",
   "metadata": {},
   "source": [
    "Deep Learning Basics\n",
    "============="
   ]
  },
  {
   "cell_type": "markdown",
   "metadata": {},
   "source": [
    "Today we'll walk through building a deep learning network for hand-written digit recognition using the <a href='http://yann.lecun.com/exdb/mnist/'>MNIST dataset</a>. The MNIST data-set represents real-world data that is already formatted and labeled, so we can focus on building our network today instead of cleaning the data.\n",
    "\n",
    "<img src=\"images/mnist.png\"></img>\n",
    "\n",
    "We're going to walk through 4 steps today:\n",
    "- Loading the Data\n",
    "- Training our Model\n",
    "- Evaluating the results of the model\n",
    "- Look at ways to improveing the performance of our model\n",
    "-----"
   ]
  },
  {
   "cell_type": "markdown",
   "metadata": {},
   "source": [
    "<img src=\"images/load.png\"></img>"
   ]
  },
  {
   "cell_type": "markdown",
   "metadata": {},
   "source": [
    "We've download the MNIST data set for you. We load the data into an SFame, which is a powerful and scalable data structure that is used by many of the models in GraphLab Create."
   ]
  },
  {
   "cell_type": "code",
   "execution_count": null,
   "metadata": {
    "collapsed": false
   },
   "outputs": [],
   "source": [
    "data = graphlab.SFrame('mnist_train.gl/')\n",
    "data"
   ]
  },
  {
   "cell_type": "markdown",
   "metadata": {},
   "source": [
    "Let's visualize the data using canvas:"
   ]
  },
  {
   "cell_type": "code",
   "execution_count": null,
   "metadata": {
    "collapsed": false
   },
   "outputs": [],
   "source": [
    "data.show()   # Uncomment to use, it will open a separate window"
   ]
  },
  {
   "cell_type": "markdown",
   "metadata": {},
   "source": [
    "--------\n",
    "<img src=\"images/train.png\"></img>"
   ]
  },
  {
   "cell_type": "markdown",
   "metadata": {},
   "source": [
    "We now use the ```neuralnet_classifier``` provided by GraphLab Create to create a neural network for our data set. The ```create``` method picks a default network architecture for you based ont eh dataset. We also specify the number of iterations we want to train on (the more the better, but also takes more time). You should adjust the max_iterations and validate the performance of the model improves."
   ]
  },
  {
   "cell_type": "code",
   "execution_count": null,
   "metadata": {
    "collapsed": false
   },
   "outputs": [],
   "source": [
    "net = graphlab.deeplearning.get_builtin_neuralnet('mnist')\n",
    "neuralnet = graphlab.neuralnet_classifier.create(data,\n",
    "                                                 network = net,\n",
    "                                                 target ='label',\n",
    "                                                 max_iterations = 6,\n",
    "                                                 metric=['accuracy', 'recall@2'],\n",
    "                                                 validation_set=None)"
   ]
  },
  {
   "cell_type": "markdown",
   "metadata": {},
   "source": [
    "A typical error curve for neuralnet training. Here, epochs and iterations are interchangeable, and represent the number of passes through the data. "
   ]
  },
  {
   "cell_type": "code",
   "execution_count": null,
   "metadata": {
    "collapsed": false
   },
   "outputs": [],
   "source": [
    "Image('images/error_curve.png')"
   ]
  },
  {
   "cell_type": "markdown",
   "metadata": {},
   "source": [
    "-----\n",
    "<img src=\"images/evaluate.png\"></img>\n",
    "In order to ensure that the deep learning model is acutally learning how to recognize the data, instead of memorizing features, we want to validate it with a dataset it hasn't seen before."
   ]
  },
  {
   "cell_type": "code",
   "execution_count": null,
   "metadata": {
    "collapsed": false
   },
   "outputs": [],
   "source": [
    "validation_data = graphlab.SFrame('mnist_test.gl/')\n",
    "validation_data"
   ]
  },
  {
   "cell_type": "code",
   "execution_count": null,
   "metadata": {
    "collapsed": false
   },
   "outputs": [],
   "source": [
    "neuralnet.evaluate(validation_data)"
   ]
  },
  {
   "cell_type": "markdown",
   "metadata": {},
   "source": [
    "Lets explore the examples that are misclassified by the model:"
   ]
  },
  {
   "cell_type": "code",
   "execution_count": null,
   "metadata": {
    "collapsed": false
   },
   "outputs": [],
   "source": [
    "neuralnet.show()"
   ]
  },
  {
   "cell_type": "code",
   "execution_count": null,
   "metadata": {
    "collapsed": true
   },
   "outputs": [],
   "source": [
    "def find_misclassifications(validation_data, nn_model):\n",
    "    classifications = nn_model.classify(validation_data)\n",
    "    joined_classifications = validation_data.join(classifications, on={'id':'row_id'})\n",
    "    misclassifications = joined_classifications[joined_classifications['label'] != joined_classifications['class']]\n",
    "    return misclassifications"
   ]
  },
  {
   "cell_type": "code",
   "execution_count": null,
   "metadata": {
    "collapsed": false
   },
   "outputs": [],
   "source": [
    "misclassifications = find_misclassifications(validation_data, neuralnet)"
   ]
  },
  {
   "cell_type": "code",
   "execution_count": null,
   "metadata": {
    "collapsed": false
   },
   "outputs": [],
   "source": [
    "misclassifications"
   ]
  },
  {
   "cell_type": "markdown",
   "metadata": {},
   "source": [
    "Let's sort by score, in a descending fashion. The score represents the confidence of the model in the prediction. The data instances, which are missclassified with high confidence by the model, are particlularly interesting because that may give us some insight into where the model is *very* wrong. So let's sort the misclassifications:"
   ]
  },
  {
   "cell_type": "code",
   "execution_count": null,
   "metadata": {
    "collapsed": true
   },
   "outputs": [],
   "source": [
    "sorted_misclassifications = misclassifications.sort('score', ascending=False)"
   ]
  },
  {
   "cell_type": "markdown",
   "metadata": {},
   "source": [
    "And  visualize it:"
   ]
  },
  {
   "cell_type": "code",
   "execution_count": null,
   "metadata": {
    "collapsed": false
   },
   "outputs": [],
   "source": [
    "sorted_misclassifications.show()"
   ]
  },
  {
   "cell_type": "markdown",
   "metadata": {},
   "source": [
    "-----\n",
    "<img src=\"images/improve.png\"></img>\n",
    "Our network does well on the data, but we'd like to do better. How can we improve it? Here's what Andrew Ng has to say:\n",
    "<img src=\"images/machine_learning_recipe.png\"></img>"
   ]
  },
  {
   "cell_type": "markdown",
   "metadata": {},
   "source": [
    "Our training data accuracy is ~80% with room to improve. So let's the make the network larger! As reminder here is what a neural network layer is. If you'd like to learn more about the different layers, please refer to our [API docs](https://dato.com/products/create/docs/generated/graphlab.deeplearning.layers.html).\n",
    "\n",
    "<img src=\"images/neural_net.png\"></img>"
   ]
  },
  {
   "cell_type": "markdown",
   "metadata": {},
   "source": [
    "Let's look at our network generated. Layer 3 is a good place to increase network size. Let's increase the number of hidden units in the third layer from 100 to 500 and re-train the model. "
   ]
  },
  {
   "cell_type": "code",
   "execution_count": null,
   "metadata": {
    "collapsed": false
   },
   "outputs": [],
   "source": [
    "neuralnet['network']"
   ]
  },
  {
   "cell_type": "code",
   "execution_count": null,
   "metadata": {
    "collapsed": false
   },
   "outputs": [],
   "source": [
    "new_network = neuralnet['network']\n",
    "new_network.layers[4] = graphlab.deeplearning.layers.FullConnectionLayer(500)# Layer 3 previously had 100 hidden units. "
   ]
  },
  {
   "cell_type": "code",
   "execution_count": null,
   "metadata": {
    "collapsed": false
   },
   "outputs": [],
   "source": [
    "improved_neuralnet = graphlab.neuralnet_classifier.create(data, target='label', \n",
    "                                                          max_iterations=3, \n",
    "                                                          validation_set=None, \n",
    "                                                          network=new_network)"
   ]
  },
  {
   "cell_type": "markdown",
   "metadata": {},
   "source": [
    "Looks like our validation accuracy jumped to about 93%!"
   ]
  },
  {
   "cell_type": "code",
   "execution_count": null,
   "metadata": {
    "collapsed": false
   },
   "outputs": [],
   "source": [
    "improved_neuralnet.evaluate(validation_data)"
   ]
  },
  {
   "cell_type": "markdown",
   "metadata": {},
   "source": [
    "Beware of Overfitting\n",
    "==========="
   ]
  },
  {
   "cell_type": "markdown",
   "metadata": {},
   "source": [
    "If you make the network too big relative to the dataset, overfitting can occur. This is when a  model describes random  noise instead of visual structure. For instance, maybe all the 7's have strikes through the middle in the training set. The model may learn this fact, and get confused when it gets a new 7 without a strike. This can be solved by either more data (as in the flowchart above) or by making the model smaller/less complex so that it does not actually have the expressesiveness to memorize details not critical to the crucial visual structure. "
   ]
  },
  {
   "cell_type": "code",
   "execution_count": null,
   "metadata": {
    "collapsed": false
   },
   "outputs": [],
   "source": [
    "Image('images/overfitting.png')"
   ]
  },
  {
   "cell_type": "code",
   "execution_count": null,
   "metadata": {
    "collapsed": true
   },
   "outputs": [],
   "source": []
  }
 ],
 "metadata": {
  "kernelspec": {
   "display_name": "Python 2",
   "language": "python",
   "name": "python2"
  },
  "language_info": {
   "codemirror_mode": {
    "name": "ipython",
    "version": 2
   },
   "file_extension": ".py",
   "mimetype": "text/x-python",
   "name": "python",
   "nbconvert_exporter": "python",
   "pygments_lexer": "ipython2",
   "version": "2.7.10"
  }
 },
 "nbformat": 4,
 "nbformat_minor": 0
}
