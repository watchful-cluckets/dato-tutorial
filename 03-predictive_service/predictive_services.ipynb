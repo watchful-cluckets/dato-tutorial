{
 "cells": [
  {
   "cell_type": "code",
   "execution_count": null,
   "metadata": {
    "collapsed": false
   },
   "outputs": [],
   "source": [
    "from IPython.display import Image\n",
    "import graphlab"
   ]
  },
  {
   "cell_type": "markdown",
   "metadata": {},
   "source": [
    "Overview: Deploying the Dress Recommender\n",
    "==================\n",
    "Let's say you want to make an app which can recommend dresses to you based on a photo you took. \n",
    "You need a way to deploy the model previously built. Dato Predictive Services helps do this in an easy and scalable way. In this notebook, we demonstrate how do that for the dress recommender model.\n",
    "\n",
    "<img src='images/predictive_services_overview.png'></img>\n",
    "\n",
    "-----------------------\n"
   ]
  },
  {
   "cell_type": "markdown",
   "metadata": {},
   "source": [
    "<img src=\"images/left.png\"></img>\n",
    "First, we define a function ```similar_dress``` that takes a query and returns similar dresses. This uses the same technique used in our previous session, in that we load a pretrained network to extract the features from the image, and then find similar items using the nearest neighbours model we created."
   ]
  },
  {
   "cell_type": "code",
   "execution_count": null,
   "metadata": {
    "collapsed": false
   },
   "outputs": [],
   "source": [
    "pretrained_model = graphlab.load_model('../data/imagenet_model')"
   ]
  },
  {
   "cell_type": "code",
   "execution_count": null,
   "metadata": {
    "collapsed": false
   },
   "outputs": [],
   "source": [
    "nn_model = graphlab.load_model('../data/nearest_dress_model')"
   ]
  },
  {
   "cell_type": "code",
   "execution_count": null,
   "metadata": {
    "collapsed": false
   },
   "outputs": [],
   "source": [
    "def dress_similar(url):\n",
    "    img = graphlab.Image(url)\n",
    "    image_sf = graphlab.SFrame()\n",
    "    image_sf['image'] = [img]\n",
    "    image_sf['features'] = pretrained_model.extract_features(image_sf)\n",
    "    ans = nn_model.query(image_sf, k=10)\n",
    "    ans['image_url'] = ans['reference_label'].apply(lambda x: 'https://s3.amazonaws.com/gl-demo/multimedia_search/images/item_' + str(x) + '.jpg')\n",
    "    return ans[['image_url']] "
   ]
  },
  {
   "cell_type": "code",
   "execution_count": null,
   "metadata": {
    "collapsed": true
   },
   "outputs": [],
   "source": [
    "QUERY_URL = 'http://static.ddmcdn.com/gif/blue-dress.jpg'"
   ]
  },
  {
   "cell_type": "code",
   "execution_count": null,
   "metadata": {
    "collapsed": false
   },
   "outputs": [],
   "source": [
    "Image(QUERY_URL)"
   ]
  },
  {
   "cell_type": "code",
   "execution_count": null,
   "metadata": {
    "collapsed": false
   },
   "outputs": [],
   "source": [
    "ans = dress_similar(QUERY_URL)"
   ]
  },
  {
   "cell_type": "markdown",
   "metadata": {},
   "source": [
    "Fetch the image from the response URL:"
   ]
  },
  {
   "cell_type": "code",
   "execution_count": null,
   "metadata": {
    "collapsed": false
   },
   "outputs": [],
   "source": [
    "ans['image'] = ans['image_url'].apply(lambda x: graphlab.Image(x))"
   ]
  },
  {
   "cell_type": "code",
   "execution_count": null,
   "metadata": {
    "collapsed": false
   },
   "outputs": [],
   "source": [
    "ans['image'].show()"
   ]
  },
  {
   "cell_type": "markdown",
   "metadata": {},
   "source": [
    "\n",
    "<img src=\"images/middle.png\"></img>\n",
    "We add our ```similar_dress``` function to the predictive service, so that it can be queried by the outside world. Note: In order to follow along here, you need AWS credentials. You can then uncomment the code below. Be sure that the deployment state path is in an s3 bucket you have access to. \n"
   ]
  },
  {
   "cell_type": "code",
   "execution_count": null,
   "metadata": {
    "collapsed": true
   },
   "outputs": [],
   "source": [
    "#gl.aws.set_credentials('AWS_ACCESS_KEY_ID', 'AWS_SECRET_ACCESS_KEY')\n",
    "\n",
    "#ec2env = graphlab.deploy.Ec2Config()\n",
    "\n",
    "#deployment = graphlab.deploy.predictive_service.create(\n",
    "#                'ps-tutorial-dl',   # logical name\n",
    "#                ec2env,        # EC2 config to use\n",
    "#               's3://dato-developer-testing/similar-dresses') # deployment state path. You should change this to an S3\n",
    "                                                               # bucket you have access to. \n",
    "#deployment = graphlab.deploy.predictive_service.load('s3://dato-developer-testing/similar-dresses')\n",
    "\n",
    "#deployment.add('dress_similar', dress_similar)\n",
    "#deployment.apply_changes()\n",
    "#deployment.get_status()\n",
    "\n"
   ]
  },
  {
   "cell_type": "markdown",
   "metadata": {},
   "source": [
    "\n",
    "The Predictive Service is now up! Let's query it and explore the response. \n",
    "<img src=\"images/right.png\"></img>"
   ]
  },
  {
   "cell_type": "code",
   "execution_count": null,
   "metadata": {
    "collapsed": true
   },
   "outputs": [],
   "source": [
    "#response = deployment.query('dress_similar', url=QUERY_URL)"
   ]
  },
  {
   "cell_type": "code",
   "execution_count": null,
   "metadata": {
    "collapsed": false
   },
   "outputs": [],
   "source": [
    "response"
   ]
  },
  {
   "cell_type": "markdown",
   "metadata": {},
   "source": [
    "Here, we're converting the response back to an SFrame:"
   ]
  },
  {
   "cell_type": "code",
   "execution_count": null,
   "metadata": {
    "collapsed": true
   },
   "outputs": [],
   "source": [
    "#sframe_response = graphlab.SFrame(response['response']).unpack('X1')"
   ]
  },
  {
   "cell_type": "markdown",
   "metadata": {},
   "source": [
    "Here, we're fetching images from their url's. "
   ]
  },
  {
   "cell_type": "code",
   "execution_count": null,
   "metadata": {
    "collapsed": false
   },
   "outputs": [],
   "source": [
    "#sframe_response['image'] = sframe_response['X1.image_url'].apply(lambda x: graphlab.Image(x))"
   ]
  },
  {
   "cell_type": "markdown",
   "metadata": {},
   "source": [
    "Looking at the results"
   ]
  },
  {
   "cell_type": "code",
   "execution_count": null,
   "metadata": {
    "collapsed": false
   },
   "outputs": [],
   "source": [
    "#sframe_response.show()"
   ]
  },
  {
   "cell_type": "markdown",
   "metadata": {},
   "source": [
    "RESTful Query\n",
    "======="
   ]
  },
  {
   "cell_type": "markdown",
   "metadata": {},
   "source": [
    "Query from anywhere. Here, we issue a request via the ```requests``` library, and convert the response back into an SFrame. We then fetch the images from their url. This could easily be done from outside of Python, though. "
   ]
  },
  {
   "cell_type": "code",
   "execution_count": null,
   "metadata": {
    "collapsed": false
   },
   "outputs": [],
   "source": [
    "def restful_query(url):\n",
    "    import json\n",
    "    import requests\n",
    "    model_name = 'test'\n",
    "    headers = {'content-type': 'application/json' }\n",
    "    payload = {'api_key':'5b45e915-7942-4db7-b23e-243d5ce8cd9c', 'data':{'url':url}}\n",
    "    end_point = 'http://%s/query/%s' % ('ps-tutorial-dl-573853473.us-west-2.elb.amazonaws.com','dress_similar' )\n",
    "    resp = requests.post(end_point,json.dumps(payload), headers=headers)\n",
    "    results = resp.json()\n",
    "    return results\n"
   ]
  },
  {
   "cell_type": "code",
   "execution_count": null,
   "metadata": {
    "collapsed": false
   },
   "outputs": [],
   "source": [
    "response = restful_query('http://static.ddmcdn.com/gif/blue-dress.jpg')"
   ]
  },
  {
   "cell_type": "markdown",
   "metadata": {},
   "source": [
    "Here, we convert the response into an SFrame. "
   ]
  },
  {
   "cell_type": "code",
   "execution_count": null,
   "metadata": {
    "collapsed": false
   },
   "outputs": [],
   "source": [
    "sframe_response = graphlab.SFrame(response['response']).unpack('X1')"
   ]
  },
  {
   "cell_type": "markdown",
   "metadata": {},
   "source": [
    "Here we fetch the image from their url's and visualize them."
   ]
  },
  {
   "cell_type": "code",
   "execution_count": null,
   "metadata": {
    "collapsed": false
   },
   "outputs": [],
   "source": [
    "sframe_response['image'] = sframe_response['X1.image_url'].apply(lambda x: graphlab.Image(x))"
   ]
  },
  {
   "cell_type": "code",
   "execution_count": null,
   "metadata": {
    "collapsed": false
   },
   "outputs": [],
   "source": [
    "sframe_response.show()"
   ]
  }
 ],
 "metadata": {
  "kernelspec": {
   "display_name": "Python 2",
   "language": "python",
   "name": "python2"
  },
  "language_info": {
   "codemirror_mode": {
    "name": "ipython",
    "version": 2
   },
   "file_extension": ".py",
   "mimetype": "text/x-python",
   "name": "python",
   "nbconvert_exporter": "python",
   "pygments_lexer": "ipython2",
   "version": "2.7.10"
  }
 },
 "nbformat": 4,
 "nbformat_minor": 0
}
